{
 "cells": [
  {
   "cell_type": "code",
   "execution_count": 4,
   "id": "b7f58ec1",
   "metadata": {},
   "outputs": [
    {
     "name": "stdout",
     "output_type": "stream",
     "text": [
      "Requirement already satisfied: scipy in /opt/homebrew/lib/python3.11/site-packages (1.11.1)\n",
      "Requirement already satisfied: numpy<1.28.0,>=1.21.6 in /opt/homebrew/lib/python3.11/site-packages (from scipy) (1.24.3)\n",
      "Requirement already satisfied: numpy in /opt/homebrew/lib/python3.11/site-packages (1.24.3)\n"
     ]
    }
   ],
   "source": [
    "!pip install scipy\n",
    "!pip install numpy"
   ]
  },
  {
   "cell_type": "markdown",
   "id": "f7521b65",
   "metadata": {},
   "source": [
    "# Punto 1 a."
   ]
  },
  {
   "cell_type": "code",
   "execution_count": 9,
   "id": "5a6ceed3",
   "metadata": {},
   "outputs": [
    {
     "name": "stdout",
     "output_type": "stream",
     "text": [
      "Eigenvector is approximately:\n",
      "[[ 0.7071088 ]\n",
      " [ 0.        ]\n",
      " [-0.70710476]] \n",
      "\n",
      "Magnitude of the eigenvalue is approximately:\n",
      "12.000008583030988 \n",
      "\n",
      "Magnitude of the difference is:\n",
      "2.5749255655705085e-05\n"
     ]
    }
   ],
   "source": [
    "import numpy as np\n",
    "\n",
    "\n",
    "X = np.array([[1],[0],[0]])\n",
    "A = np.array([[9,-1,-3],[0,6,0],[-6,3,6]])\n",
    "\n",
    "m = 0\n",
    "tolerance = 0.0001\n",
    "MAX_ITERATIONS = 100\n",
    "\n",
    "## Compute difference in stopping condition\n",
    "## Assign Y = AX to avoid computing AX multiple times\n",
    "Y = A@X\n",
    "difference = Y - np.linalg.norm(Y)*X\n",
    "\n",
    "while (m < MAX_ITERATIONS and np.linalg.norm(difference) > tolerance):\n",
    "    X = Y\n",
    "    X = X/np.linalg.norm(X)\n",
    "\n",
    "    ## Compute difference in stopping condition\n",
    "    Y = A@X\n",
    "    difference = Y - np.linalg.norm(Y)*X\n",
    "    \n",
    "    m = m + 1\n",
    "    \n",
    "print(\"Eigenvector is approximately:\")\n",
    "print(X,'\\n')\n",
    "print(\"Magnitude of the eigenvalue is approximately:\")\n",
    "print(np.linalg.norm(Y),'\\n')\n",
    "print(\"Magnitude of the difference is:\")\n",
    "print(np.linalg.norm(difference))"
   ]
  },
  {
   "cell_type": "code",
   "execution_count": 12,
   "id": "1a9cef2e",
   "metadata": {},
   "outputs": [
    {
     "name": "stdout",
     "output_type": "stream",
     "text": [
      "[[ 0.70710678]\n",
      " [ 0.        ]\n",
      " [-0.70710678]]\n",
      "12.000000000002048\n"
     ]
    }
   ],
   "source": [
    "import numpy as np\n",
    "\n",
    "X = np.array([[1],[0],[0]])\n",
    "A = np.array([[9,-1,-3],[0,6,0],[-6,3,6]])\n",
    "\n",
    "m = 0\n",
    "while (m < 20):\n",
    "    X = A@X\n",
    "    X = X/np.linalg.norm(X)\n",
    "    m = m + 1\n",
    "print(X)\n",
    "\n",
    "\n",
    "print(np.linalg.norm(A@X))"
   ]
  },
  {
   "cell_type": "markdown",
   "id": "eccfc1a7",
   "metadata": {},
   "source": [
    "# Punto1 b.\n",
    "El resultado al cambiar el miu aproxima a 12, ya que este valor aproxima al autovalor más próximo, si pusieramos un valor cercano a 6 como 7.5, aproxima a 6 o un valor cercano a 3, como puede ser 4, este aproxima a 3"
   ]
  },
  {
   "cell_type": "code",
   "execution_count": 23,
   "id": "d36db998",
   "metadata": {},
   "outputs": [
    {
     "name": "stdout",
     "output_type": "stream",
     "text": [
      "Eigenvector is approximately:\n",
      "[[-7.07113254e-01]\n",
      " [-1.94211789e-05]\n",
      " [ 7.07100308e-01]] \n",
      "\n",
      "Eigenvalue of A is approximately:\n",
      "11.999972530202639\n"
     ]
    }
   ],
   "source": [
    "import scipy.linalg as sla\n",
    "\n",
    "\n",
    "X = np.array([[0],[1],[0]])\n",
    "\n",
    "m = 0\n",
    "tolerance = 0.0001\n",
    "MAX_ITERATIONS = 100\n",
    "difference = X\n",
    "\n",
    "A = np.array([[9,-1,-3],[0,6,0],[-6,3,6]])\n",
    "I = np.eye(3)\n",
    "mu = 10\n",
    "Shifted_A = A-mu*I\n",
    "LU_factorization = sla.lu_factor(Shifted_A)\n",
    "\n",
    "while (m < MAX_ITERATIONS and np.linalg.norm(difference) > tolerance):\n",
    "    X_previous = X\n",
    "    X = sla.lu_solve(LU_factorization,X)\n",
    "    X = X/np.linalg.norm(X)\n",
    "\n",
    "    ## Compute difference in stopping condition\n",
    "    difference = X - X_previous\n",
    "    \n",
    "    m = m + 1\n",
    "\n",
    "print(\"Eigenvector is approximately:\")\n",
    "print(X,'\\n')\n",
    "print(\"Eigenvalue of A is approximately:\")\n",
    "print(np.linalg.norm(A@X))\n"
   ]
  },
  {
   "cell_type": "markdown",
   "id": "42684b04",
   "metadata": {},
   "source": [
    "# Punto 1 c. \n"
   ]
  },
  {
   "cell_type": "code",
   "execution_count": 51,
   "id": "5d6e6304",
   "metadata": {},
   "outputs": [
    {
     "name": "stdout",
     "output_type": "stream",
     "text": [
      "Eigenvector is approximately:\n",
      "[[ 1.]\n",
      " [ 0.]\n",
      " [-0.]] \n",
      "\n",
      "Eigenvalue of A is approximately:\n",
      "10.816653826391969\n"
     ]
    }
   ],
   "source": [
    "import scipy.linalg as sla\n",
    "\n",
    "\n",
    "X = np.array([[1],[0],[0]])\n",
    "\n",
    "m = 0\n",
    "tolerance = 0.0001\n",
    "MAX_ITERATIONS = 100\n",
    "difference = X\n",
    "\n",
    "A = np.array([[9,-1,-3],[0,6,0],[-6,3,6]])\n",
    "I = np.eye(3)\n",
    "mu = 7.5\n",
    "Shifted_A = A-mu*I\n",
    "LU_factorization = sla.lu_factor(Shifted_A)\n",
    "\n",
    "while (m < MAX_ITERATIONS and np.linalg.norm(difference) > tolerance):\n",
    "    X_previous = X\n",
    "    X = sla.lu_solve(LU_factorization,X)\n",
    "    X = X/np.linalg.norm(X)\n",
    "\n",
    "    ## Compute difference in stopping condition\n",
    "    difference = X - X_previous\n",
    "    \n",
    "    m = m + 1\n",
    "\n",
    "print(\"Eigenvector is approximately:\")\n",
    "print(X,'\\n')\n",
    "print(\"Eigenvalue of A is approximately:\")\n",
    "print(np.linalg.norm(A@X))\n"
   ]
  },
  {
   "cell_type": "markdown",
   "id": "ff3b228a",
   "metadata": {},
   "source": [
    "# Punto 2 a.\n",
    "Utilizando de las potencias, hallamos que el valor mayor es 36, y utilizando el método de inverso de potencia obtenemos que el valor menor, es 4.\n",
    "\n",
    "Utilizando como mui -20, por ser el valor en el medio y la pista que nos dieron de que el último valor era negativo, hallamos que el último autovalor es -8"
   ]
  },
  {
   "cell_type": "code",
   "execution_count": 55,
   "id": "efabb536",
   "metadata": {},
   "outputs": [
    {
     "name": "stdout",
     "output_type": "stream",
     "text": [
      "Eigenvector is approximately:\n",
      "[[5.56674896e-07]\n",
      " [3.16227933e-01]\n",
      " [9.48683242e-01]] \n",
      "\n",
      "Magnitude of the eigenvalue is approximately:\n",
      "35.99998451019761 \n",
      "\n",
      "Magnitude of the difference is:\n",
      "2.5699366771184847e-05\n"
     ]
    }
   ],
   "source": [
    "import numpy as np\n",
    "\n",
    "\n",
    "X = np.array([[1],[0],[0]])\n",
    "A = np.array([[-2,-18,6],[-11,3,11],[-27,15,31]])\n",
    "\n",
    "m = 0\n",
    "tolerance = 0.0001\n",
    "MAX_ITERATIONS = 100\n",
    "\n",
    "## Compute difference in stopping condition\n",
    "## Assign Y = AX to avoid computing AX multiple times\n",
    "Y = A@X\n",
    "difference = Y - np.linalg.norm(Y)*X\n",
    "\n",
    "while (m < MAX_ITERATIONS and np.linalg.norm(difference) > tolerance):\n",
    "    X = Y\n",
    "    X = X/np.linalg.norm(X)\n",
    "\n",
    "    ## Compute difference in stopping condition\n",
    "    Y = A@X\n",
    "    difference = Y - np.linalg.norm(Y)*X\n",
    "    \n",
    "    m = m + 1\n",
    "    \n",
    "print(\"Eigenvector is approximately:\")\n",
    "print(X,'\\n')\n",
    "print(\"Magnitude of the eigenvalue is approximately:\")\n",
    "print(np.linalg.norm(Y),'\\n')\n",
    "print(\"Magnitude of the difference is:\")\n",
    "print(np.linalg.norm(difference))"
   ]
  },
  {
   "cell_type": "code",
   "execution_count": 54,
   "id": "b773dbb8",
   "metadata": {},
   "outputs": [
    {
     "name": "stdout",
     "output_type": "stream",
     "text": [
      "Eigenvector is approximately:\n",
      "[[7.07117570e-01]\n",
      " [2.15781986e-05]\n",
      " [7.07095992e-01]] \n",
      "\n",
      "Magnitude of the eigenvalue of A inverse is approximately:\n",
      "0.24998283458260934 \n",
      "\n",
      "Magnitude of the eigenvalue of A is approximately:\n",
      "3.999450712928783 \n",
      "\n"
     ]
    }
   ],
   "source": [
    "X = np.array([[1],[0],[0]])\n",
    "\n",
    "m = 0\n",
    "tolerance = 0.0001\n",
    "MAX_ITERATIONS = 100\n",
    "\n",
    "difference = X\n",
    "A = np.array([[-2,-18,6],[-11,3,11],[-27,15,31]])\n",
    "A_inv = np.linalg.inv(A)\n",
    "\n",
    "while (m < MAX_ITERATIONS and np.linalg.norm(difference) > tolerance):\n",
    "    X_previous = X\n",
    "    X = A_inv@X\n",
    "    X = X/np.linalg.norm(X)\n",
    "\n",
    "    ## Compute difference in stopping condition\n",
    "    difference = X - X_previous\n",
    "    \n",
    "    m = m + 1\n",
    "    \n",
    "print(\"Eigenvector is approximately:\")\n",
    "print(X,'\\n')\n",
    "print(\"Magnitude of the eigenvalue of A inverse is approximately:\")\n",
    "print(np.linalg.norm(A_inv@X),'\\n')\n",
    "print(\"Magnitude of the eigenvalue of A is approximately:\")\n",
    "print(np.linalg.norm(A@X),'\\n')"
   ]
  },
  {
   "cell_type": "code",
   "execution_count": 111,
   "id": "3f95277f",
   "metadata": {},
   "outputs": [
    {
     "name": "stdout",
     "output_type": "stream",
     "text": [
      "Eigenvector is approximately:\n",
      "[[0.81649641]\n",
      " [0.4086473 ]\n",
      " [0.40784922]] \n",
      "\n",
      "Eigenvalue of A is approximately:\n",
      "8.01172724864646\n"
     ]
    }
   ],
   "source": [
    "import scipy.linalg as sla\n",
    "\n",
    "X = np.array([[0],[1],[0]])\n",
    "\n",
    "m = 0\n",
    "tolerance = 0.001\n",
    "MAX_ITERATIONS = 1000\n",
    "difference = X\n",
    "\n",
    "A = np.array([[-2,-18,6],[-11,3,11],[-27,15,31]])\n",
    "I = np.eye(3)\n",
    "mu = -20\n",
    "Shifted_A = A-mu*I\n",
    "LU_factorization = sla.lu_factor(Shifted_A)\n",
    "\n",
    "while (m < MAX_ITERATIONS and np.linalg.norm(difference) > tolerance):\n",
    "    X_previous = X\n",
    "    X = sla.lu_solve(LU_factorization,X)\n",
    "    X = X/np.linalg.norm(X)\n",
    "\n",
    "    ## Compute difference in stopping condition\n",
    "    difference = X - X_previous\n",
    "    \n",
    "    m = m + 1\n",
    "\n",
    "print(\"Eigenvector is approximately:\")\n",
    "print(X,'\\n')\n",
    "print(\"Eigenvalue of A is approximately:\")\n",
    "print(np.linalg.norm(A@X))"
   ]
  },
  {
   "cell_type": "code",
   "execution_count": 100,
   "id": "a589ef0a",
   "metadata": {},
   "outputs": [],
   "source": [
    "eigenvalues, eigenvectors = sla.eig( np.array([[-2,-18,6],[-11,3,11],[-27,15,31]]))"
   ]
  },
  {
   "cell_type": "markdown",
   "id": "a876b0aa",
   "metadata": {},
   "source": [
    "# Punto 2 b.\n",
    "Validamos con la librería scipy"
   ]
  },
  {
   "cell_type": "code",
   "execution_count": 93,
   "id": "90b7a860",
   "metadata": {},
   "outputs": [
    {
     "data": {
      "text/plain": [
       "array([36.+0.j, -8.+0.j,  4.+0.j])"
      ]
     },
     "execution_count": 93,
     "metadata": {},
     "output_type": "execute_result"
    }
   ],
   "source": [
    "eigenvalues"
   ]
  },
  {
   "cell_type": "code",
   "execution_count": 94,
   "id": "04195da2",
   "metadata": {},
   "outputs": [
    {
     "data": {
      "text/plain": [
       "array([[-3.69683191e-16, -8.16496581e-01,  7.07106781e-01],\n",
       "       [-3.16227766e-01, -4.08248290e-01,  3.78720551e-16],\n",
       "       [-9.48683298e-01, -4.08248290e-01,  7.07106781e-01]])"
      ]
     },
     "execution_count": 94,
     "metadata": {},
     "output_type": "execute_result"
    }
   ],
   "source": [
    "eigenvectors"
   ]
  },
  {
   "cell_type": "code",
   "execution_count": null,
   "id": "ff814856",
   "metadata": {},
   "outputs": [],
   "source": []
  }
 ],
 "metadata": {
  "kernelspec": {
   "display_name": "Python 3 (ipykernel)",
   "language": "python",
   "name": "python3"
  },
  "language_info": {
   "codemirror_mode": {
    "name": "ipython",
    "version": 3
   },
   "file_extension": ".py",
   "mimetype": "text/x-python",
   "name": "python",
   "nbconvert_exporter": "python",
   "pygments_lexer": "ipython3",
   "version": "3.11.6"
  }
 },
 "nbformat": 4,
 "nbformat_minor": 5
}
