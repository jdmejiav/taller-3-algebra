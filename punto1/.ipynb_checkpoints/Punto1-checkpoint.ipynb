{
 "cells": [
  {
   "cell_type": "code",
   "execution_count": 4,
   "id": "a4acf12f",
   "metadata": {},
   "outputs": [
    {
     "name": "stdout",
     "output_type": "stream",
     "text": [
      "Requirement already satisfied: scipy in /opt/homebrew/lib/python3.11/site-packages (1.11.1)\n",
      "Requirement already satisfied: numpy<1.28.0,>=1.21.6 in /opt/homebrew/lib/python3.11/site-packages (from scipy) (1.24.3)\n",
      "Requirement already satisfied: numpy in /opt/homebrew/lib/python3.11/site-packages (1.24.3)\n"
     ]
    }
   ],
   "source": [
    "!pip install scipy\n",
    "!pip install numpy"
   ]
  },
  {
   "cell_type": "markdown",
   "id": "6edd0891",
   "metadata": {},
   "source": [
    "# Punto 1 a."
   ]
  },
  {
   "cell_type": "code",
   "execution_count": 9,
   "id": "d1d306d1",
   "metadata": {},
   "outputs": [
    {
     "name": "stdout",
     "output_type": "stream",
     "text": [
      "Eigenvector is approximately:\n",
      "[[ 0.7071088 ]\n",
      " [ 0.        ]\n",
      " [-0.70710476]] \n",
      "\n",
      "Magnitude of the eigenvalue is approximately:\n",
      "12.000008583030988 \n",
      "\n",
      "Magnitude of the difference is:\n",
      "2.5749255655705085e-05\n"
     ]
    }
   ],
   "source": [
    "import numpy as np\n",
    "\n",
    "\n",
    "X = np.array([[1],[0],[0]])\n",
    "A = np.array([[9,-1,-3],[0,6,0],[-6,3,6]])\n",
    "\n",
    "m = 0\n",
    "tolerance = 0.0001\n",
    "MAX_ITERATIONS = 100\n",
    "\n",
    "## Compute difference in stopping condition\n",
    "## Assign Y = AX to avoid computing AX multiple times\n",
    "Y = A@X\n",
    "difference = Y - np.linalg.norm(Y)*X\n",
    "\n",
    "while (m < MAX_ITERATIONS and np.linalg.norm(difference) > tolerance):\n",
    "    X = Y\n",
    "    X = X/np.linalg.norm(X)\n",
    "\n",
    "    ## Compute difference in stopping condition\n",
    "    Y = A@X\n",
    "    difference = Y - np.linalg.norm(Y)*X\n",
    "    \n",
    "    m = m + 1\n",
    "    \n",
    "print(\"Eigenvector is approximately:\")\n",
    "print(X,'\\n')\n",
    "print(\"Magnitude of the eigenvalue is approximately:\")\n",
    "print(np.linalg.norm(Y),'\\n')\n",
    "print(\"Magnitude of the difference is:\")\n",
    "print(np.linalg.norm(difference))"
   ]
  },
  {
   "cell_type": "code",
   "execution_count": 12,
   "id": "a105aeaf",
   "metadata": {},
   "outputs": [
    {
     "name": "stdout",
     "output_type": "stream",
     "text": [
      "[[ 0.70710678]\n",
      " [ 0.        ]\n",
      " [-0.70710678]]\n",
      "12.000000000002048\n"
     ]
    }
   ],
   "source": [
    "import numpy as np\n",
    "\n",
    "X = np.array([[1],[0],[0]])\n",
    "A = np.array([[9,-1,-3],[0,6,0],[-6,3,6]])\n",
    "\n",
    "m = 0\n",
    "while (m < 20):\n",
    "    X = A@X\n",
    "    X = X/np.linalg.norm(X)\n",
    "    m = m + 1\n",
    "print(X)\n",
    "\n",
    "\n",
    "print(np.linalg.norm(A@X))"
   ]
  },
  {
   "cell_type": "markdown",
   "id": "bfc88d65",
   "metadata": {},
   "source": [
    "# Punto1 b.\n",
    "El resultado al cambiar el miu aproxima a 12, ya que este valor aproxima al autovalor más próximo, si pusieramos un valor cercano a 6 como 7.5, aproxima a 6 o un valor cercano a 3, como puede ser 4, este aproxima a 3"
   ]
  },
  {
   "cell_type": "code",
   "execution_count": 23,
   "id": "d1880411",
   "metadata": {},
   "outputs": [
    {
     "name": "stdout",
     "output_type": "stream",
     "text": [
      "Eigenvector is approximately:\n",
      "[[-7.07113254e-01]\n",
      " [-1.94211789e-05]\n",
      " [ 7.07100308e-01]] \n",
      "\n",
      "Eigenvalue of A is approximately:\n",
      "11.999972530202639\n"
     ]
    }
   ],
   "source": [
    "import scipy.linalg as sla\n",
    "\n",
    "\n",
    "X = np.array([[0],[1],[0]])\n",
    "\n",
    "m = 0\n",
    "tolerance = 0.0001\n",
    "MAX_ITERATIONS = 100\n",
    "difference = X\n",
    "\n",
    "A = np.array([[9,-1,-3],[0,6,0],[-6,3,6]])\n",
    "I = np.eye(3)\n",
    "mu = 10\n",
    "Shifted_A = A-mu*I\n",
    "LU_factorization = sla.lu_factor(Shifted_A)\n",
    "\n",
    "while (m < MAX_ITERATIONS and np.linalg.norm(difference) > tolerance):\n",
    "    X_previous = X\n",
    "    X = sla.lu_solve(LU_factorization,X)\n",
    "    X = X/np.linalg.norm(X)\n",
    "\n",
    "    ## Compute difference in stopping condition\n",
    "    difference = X - X_previous\n",
    "    \n",
    "    m = m + 1\n",
    "\n",
    "print(\"Eigenvector is approximately:\")\n",
    "print(X,'\\n')\n",
    "print(\"Eigenvalue of A is approximately:\")\n",
    "print(np.linalg.norm(A@X))\n"
   ]
  },
  {
   "cell_type": "markdown",
   "id": "77d95779",
   "metadata": {},
   "source": [
    "# Punto 1 c."
   ]
  },
  {
   "cell_type": "code",
   "execution_count": null,
   "id": "1a189e41",
   "metadata": {},
   "outputs": [],
   "source": [
    "import scipy.linalg as sla\n",
    "\n",
    "\n",
    "X = np.array([[1],[0],[0]])\n",
    "\n",
    "m = 0\n",
    "tolerance = 0.0001\n",
    "MAX_ITERATIONS = 100\n",
    "difference = X\n",
    "\n",
    "A = np.array([[9,-1,-3],[0,6,0],[-6,3,6]])\n",
    "I = np.eye(3)\n",
    "mu = 7.5\n",
    "Shifted_A = A-mu*I\n",
    "LU_factorization = sla.lu_factor(Shifted_A)\n",
    "\n",
    "while (m < MAX_ITERATIONS and np.linalg.norm(difference) > tolerance):\n",
    "    X_previous = X\n",
    "    X = sla.lu_solve(LU_factorization,X)\n",
    "    X = X/np.linalg.norm(X)\n",
    "\n",
    "    ## Compute difference in stopping condition\n",
    "    difference = X - X_previous\n",
    "    \n",
    "    m = m + 1\n",
    "\n",
    "print(\"Eigenvector is approximately:\")\n",
    "print(X,'\\n')\n",
    "print(\"Eigenvalue of A is approximately:\")\n",
    "print(np.linalg.norm(A@X))\n"
   ]
  }
 ],
 "metadata": {
  "kernelspec": {
   "display_name": "Python 3 (ipykernel)",
   "language": "python",
   "name": "python3"
  },
  "language_info": {
   "codemirror_mode": {
    "name": "ipython",
    "version": 3
   },
   "file_extension": ".py",
   "mimetype": "text/x-python",
   "name": "python",
   "nbconvert_exporter": "python",
   "pygments_lexer": "ipython3",
   "version": "3.11.6"
  }
 },
 "nbformat": 4,
 "nbformat_minor": 5
}
