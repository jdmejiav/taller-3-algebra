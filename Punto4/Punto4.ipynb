{
 "cells": [
  {
   "cell_type": "code",
   "execution_count": 7,
   "id": "0b1e8f77",
   "metadata": {},
   "outputs": [
    {
     "data": {
      "text/plain": [
       "array([[[176., 176., 176.],\n",
       "        [176., 176., 176.],\n",
       "        [175., 175., 175.],\n",
       "        ...,\n",
       "        [225., 225., 225.],\n",
       "        [225., 225., 225.],\n",
       "        [223., 223., 223.]],\n",
       "\n",
       "       [[175., 175., 175.],\n",
       "        [175., 175., 175.],\n",
       "        [175., 175., 175.],\n",
       "        ...,\n",
       "        [224., 224., 224.],\n",
       "        [223., 223., 223.],\n",
       "        [221., 221., 221.]],\n",
       "\n",
       "       [[175., 175., 175.],\n",
       "        [175., 175., 175.],\n",
       "        [175., 175., 175.],\n",
       "        ...,\n",
       "        [223., 223., 223.],\n",
       "        [222., 222., 222.],\n",
       "        [220., 220., 220.]],\n",
       "\n",
       "       ...,\n",
       "\n",
       "       [[ 26.,  26.,  26.],\n",
       "        [ 27.,  27.,  27.],\n",
       "        [ 31.,  31.,  31.],\n",
       "        ...,\n",
       "        [ 37.,  37.,  37.],\n",
       "        [ 38.,  38.,  38.],\n",
       "        [ 39.,  39.,  39.]],\n",
       "\n",
       "       [[ 25.,  25.,  25.],\n",
       "        [ 28.,  28.,  28.],\n",
       "        [ 32.,  32.,  32.],\n",
       "        ...,\n",
       "        [ 39.,  39.,  39.],\n",
       "        [ 39.,  39.,  39.],\n",
       "        [ 39.,  39.,  39.]],\n",
       "\n",
       "       [[ 26.,  26.,  26.],\n",
       "        [ 29.,  29.,  29.],\n",
       "        [ 33.,  33.,  33.],\n",
       "        ...,\n",
       "        [ 40.,  40.,  40.],\n",
       "        [ 39.,  39.,  39.],\n",
       "        [ 38.,  38.,  38.]]], dtype=float32)"
      ]
     },
     "execution_count": 7,
     "metadata": {},
     "output_type": "execute_result"
    }
   ],
   "source": [
    "from PIL import Image \n",
    "import tensorflow as tf\n",
    "import numpy as np\n",
    "from tensorflow.keras.preprocessing import image\n",
    "\n",
    "# Carga una imagen\n",
    "imagen_objetivo = 'image.jpeg'  # Reemplaza 'imagen.jpg' con la ruta de tu imagen\n",
    "img = image.load_img(imagen_objetivo, target_size=(600, 400))\n",
    "\n",
    "# Convierte la imagen en un arreglo numpy\n",
    "img_objetivo_array = image.img_to_array(img)\n",
    "\n",
    "img_objetivo_array\n",
    "\n",
    "\n",
    "\n",
    "\n"
   ]
  },
  {
   "cell_type": "code",
   "execution_count": 13,
   "id": "c4867da3",
   "metadata": {},
   "outputs": [
    {
     "data": {
      "text/plain": [
       "(3, 400)"
      ]
     },
     "execution_count": 13,
     "metadata": {},
     "output_type": "execute_result"
    }
   ],
   "source": [
    "U, S, VT = np.linalg.svd(img_objetivo_array.T)\n",
    "S.shape"
   ]
  },
  {
   "cell_type": "code",
   "execution_count": null,
   "id": "896f3a00",
   "metadata": {},
   "outputs": [],
   "source": [
    "\n",
    "import cv2\n",
    "import numpy as np\n",
    "\n",
    "# Cargar la imagen en escala de grises\n",
    "image_arr = cv2.imread('image.jpeg', cv2.IMREAD_GRAYSCALE)\n",
    "\n",
    "# Realizar la descomposición en valores singulares (SVD)\n",
    "U, S, Vt = np.linalg.svd(image_arr, full_matrices=False)\n",
    "\n",
    "# Lista para almacenar las imágenes con diferentes cantidades de valores singulares\n",
    "svd_images = []\n",
    "\n",
    "# Rango de valores singulares a considerar\n",
    "for k in range(1, min(image_arr.shape)):\n",
    "    reconstructed_image = U[:, :k] @ np.diag(S[:k]) @ Vt[:k, :]\n",
    "    svd_images.append(reconstructed_image)\n",
    "\n",
    "# Mostrar las imágenes reconstruidas con diferentes cantidades de valores singulares\n",
    "for i, reconstructed_image in enumerate(svd_images):\n",
    "    cv2.imshow(f'Reconstrucción con {i+1} valores singulares', reconstructed_image)\n",
    "    cv2.waitKey(0)\n",
    "\n",
    "cv2.destroyAllWindows()"
   ]
  },
  {
   "cell_type": "code",
   "execution_count": 17,
   "id": "3ee568a5",
   "metadata": {},
   "outputs": [
    {
     "name": "stdout",
     "output_type": "stream",
     "text": [
      "Punto4.ipynb image.jpeg\r\n"
     ]
    }
   ],
   "source": [
    "!ls"
   ]
  },
  {
   "cell_type": "code",
   "execution_count": null,
   "id": "c20a9a08",
   "metadata": {},
   "outputs": [],
   "source": []
  }
 ],
 "metadata": {
  "kernelspec": {
   "display_name": "Python 3 (ipykernel)",
   "language": "python",
   "name": "python3"
  },
  "language_info": {
   "codemirror_mode": {
    "name": "ipython",
    "version": 3
   },
   "file_extension": ".py",
   "mimetype": "text/x-python",
   "name": "python",
   "nbconvert_exporter": "python",
   "pygments_lexer": "ipython3",
   "version": "3.11.6"
  }
 },
 "nbformat": 4,
 "nbformat_minor": 5
}
