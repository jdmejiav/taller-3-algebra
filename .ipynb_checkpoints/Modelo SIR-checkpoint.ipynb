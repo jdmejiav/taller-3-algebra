{
 "cells": [
  {
   "cell_type": "code",
   "execution_count": 20,
   "id": "09c35b17",
   "metadata": {},
   "outputs": [],
   "source": [
    "import numpy as np\n",
    "import matplotlib.pyplot as plt"
   ]
  },
  {
   "cell_type": "code",
   "execution_count": 21,
   "id": "7b142640",
   "metadata": {},
   "outputs": [
    {
     "data": {
      "text/plain": [
       "array([[0.9 , 0.  , 0.2 ],\n",
       "       [0.1 , 0.85, 0.  ],\n",
       "       [0.  , 0.15, 0.8 ]])"
      ]
     },
     "execution_count": 21,
     "metadata": {},
     "output_type": "execute_result"
    }
   ],
   "source": [
    "SIR = np.array([[0.9, 0.1,0], \n",
    "       [0, 0.85, 0.15],\n",
    "       [0.2,0,0.8]]).T\n",
    "\n",
    "SIR"
   ]
  },
  {
   "cell_type": "code",
   "execution_count": 22,
   "id": "4df1baa6",
   "metadata": {},
   "outputs": [],
   "source": [
    "ini = np.array([1,0,0])\n",
    "poblacion = []\n",
    "poblacion.append(ini)\n",
    "\n",
    "\n"
   ]
  },
  {
   "cell_type": "code",
   "execution_count": 23,
   "id": "31da6f4c",
   "metadata": {},
   "outputs": [],
   "source": [
    "for i in range(0,24):\n",
    "    ini = np.dot(SIR,ini)\n",
    "    poblacion.append(ini)"
   ]
  },
  {
   "cell_type": "code",
   "execution_count": 25,
   "id": "8c0b42b3",
   "metadata": {},
   "outputs": [
    {
     "data": {
      "text/plain": [
       "[array([1, 0, 0]),\n",
       " array([0.9, 0.1, 0. ]),\n",
       " array([0.81 , 0.175, 0.015]),\n",
       " array([0.732  , 0.22975, 0.03825]),\n",
       " array([0.66645  , 0.2684875, 0.0650625]),\n",
       " array([0.6128175 , 0.29485938, 0.09232313]),\n",
       " array([0.57000038, 0.31191222, 0.11808741]),\n",
       " array([0.53661782, 0.32212542, 0.14125676]),\n",
       " array([0.51120739, 0.32746839, 0.16132422]),\n",
       " array([0.49235149, 0.32946887, 0.17817963]),\n",
       " array([0.47875227, 0.32928369, 0.19196404]),\n",
       " array([0.46926985, 0.32776636, 0.20296378]),\n",
       " array([0.46293562, 0.32552839, 0.21153598]),\n",
       " array([0.45894926, 0.3229927 , 0.21805804]),\n",
       " array([0.45666594, 0.32043872, 0.22289534]),\n",
       " array([0.45557841, 0.31803951, 0.22638208]),\n",
       " array([0.45529699, 0.31589142, 0.22881159]),\n",
       " array([0.45552961, 0.31403741, 0.23043299]),\n",
       " array([0.45606324, 0.31248476, 0.231452  ]),\n",
       " array([0.45674732, 0.31121837, 0.23203431]),\n",
       " array([0.45747945, 0.31021034, 0.23231021]),\n",
       " array([0.45819355, 0.30942674, 0.23237972]),\n",
       " array([0.45885013, 0.30883208, 0.23231778]),\n",
       " array([0.45942868, 0.30839228, 0.23217904]),\n",
       " array([0.45992162, 0.30807631, 0.23200207])]"
      ]
     },
     "execution_count": 25,
     "metadata": {},
     "output_type": "execute_result"
    }
   ],
   "source": [
    "poblacionnp = np.array(poblacion).T\n",
    "t = np.arange(0, 25 + 1, 1)\n",
    "\n",
    "plt.plot(t, poblacionnp[0], label='Susceptibles')\n",
    "plt.plot(t, poblacionnp[1], label='Infectados')\n",
    "plt.plot(t, poblacionnp[2], label='Recuperados')\n",
    "plt.xlabel('Días')\n",
    "plt.ylabel('Población')\n",
    "plt.legend()\n",
    "plt.show()"
   ]
  },
  {
   "cell_type": "code",
   "execution_count": null,
   "id": "f999b79f",
   "metadata": {},
   "outputs": [],
   "source": []
  }
 ],
 "metadata": {
  "kernelspec": {
   "display_name": "Python 3 (ipykernel)",
   "language": "python",
   "name": "python3"
  },
  "language_info": {
   "codemirror_mode": {
    "name": "ipython",
    "version": 3
   },
   "file_extension": ".py",
   "mimetype": "text/x-python",
   "name": "python",
   "nbconvert_exporter": "python",
   "pygments_lexer": "ipython3",
   "version": "3.11.5"
  }
 },
 "nbformat": 4,
 "nbformat_minor": 5
}
