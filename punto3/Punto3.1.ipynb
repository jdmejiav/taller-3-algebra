{
 "cells": [
  {
   "cell_type": "raw",
   "id": "2e73a3ef-3ef1-4237-a9d4-3bdbec13549a",
   "metadata": {},
   "source": [
    "Topic Modeling with NMF and SVD"
   ]
  },
  {
   "cell_type": "code",
   "execution_count": 51,
   "id": "027deb7a-7768-4d0d-b4d1-d294e46e3415",
   "metadata": {},
   "outputs": [
    {
     "name": "stdout",
     "output_type": "stream",
     "text": [
      "Requirement already satisfied: numpy in c:\\users\\kayze\\appdata\\local\\programs\\python\\python39\\lib\\site-packages (1.23.5)\n",
      "Requirement already satisfied: scikit-learn in c:\\users\\kayze\\appdata\\local\\programs\\python\\python39\\lib\\site-packages (1.3.1)\n",
      "Requirement already satisfied: numpy<2.0,>=1.17.3 in c:\\users\\kayze\\appdata\\local\\programs\\python\\python39\\lib\\site-packages (from scikit-learn) (1.23.5)\n",
      "Requirement already satisfied: scipy>=1.5.0 in c:\\users\\kayze\\appdata\\local\\programs\\python\\python39\\lib\\site-packages (from scikit-learn) (1.11.2)\n",
      "Requirement already satisfied: joblib>=1.1.1 in c:\\users\\kayze\\appdata\\local\\programs\\python\\python39\\lib\\site-packages (from scikit-learn) (1.3.2)\n",
      "Requirement already satisfied: threadpoolctl>=2.0.0 in c:\\users\\kayze\\appdata\\local\\programs\\python\\python39\\lib\\site-packages (from scikit-learn) (3.2.0)\n",
      "Requirement already satisfied: scipy in c:\\users\\kayze\\appdata\\local\\programs\\python\\python39\\lib\\site-packages (1.11.2)\n",
      "Requirement already satisfied: numpy<1.28.0,>=1.21.6 in c:\\users\\kayze\\appdata\\local\\programs\\python\\python39\\lib\\site-packages (from scipy) (1.23.5)\n",
      "Requirement already satisfied: matplotlib in c:\\users\\kayze\\appdata\\local\\programs\\python\\python39\\lib\\site-packages (3.8.0)\n",
      "Requirement already satisfied: contourpy>=1.0.1 in c:\\users\\kayze\\appdata\\local\\programs\\python\\python39\\lib\\site-packages (from matplotlib) (1.1.1)\n",
      "Requirement already satisfied: cycler>=0.10 in c:\\users\\kayze\\appdata\\local\\programs\\python\\python39\\lib\\site-packages (from matplotlib) (0.12.1)\n",
      "Requirement already satisfied: fonttools>=4.22.0 in c:\\users\\kayze\\appdata\\local\\programs\\python\\python39\\lib\\site-packages (from matplotlib) (4.43.1)\n",
      "Requirement already satisfied: kiwisolver>=1.0.1 in c:\\users\\kayze\\appdata\\local\\programs\\python\\python39\\lib\\site-packages (from matplotlib) (1.4.5)\n",
      "Requirement already satisfied: numpy<2,>=1.21 in c:\\users\\kayze\\appdata\\local\\programs\\python\\python39\\lib\\site-packages (from matplotlib) (1.23.5)\n",
      "Requirement already satisfied: packaging>=20.0 in c:\\users\\kayze\\appdata\\local\\programs\\python\\python39\\lib\\site-packages (from matplotlib) (23.1)\n",
      "Requirement already satisfied: pillow>=6.2.0 in c:\\users\\kayze\\appdata\\local\\programs\\python\\python39\\lib\\site-packages (from matplotlib) (10.0.1)\n",
      "Requirement already satisfied: pyparsing>=2.3.1 in c:\\users\\kayze\\appdata\\local\\programs\\python\\python39\\lib\\site-packages (from matplotlib) (3.1.1)\n",
      "Requirement already satisfied: python-dateutil>=2.7 in c:\\users\\kayze\\appdata\\local\\programs\\python\\python39\\lib\\site-packages (from matplotlib) (2.8.2)\n",
      "Requirement already satisfied: importlib-resources>=3.2.0 in c:\\users\\kayze\\appdata\\local\\programs\\python\\python39\\lib\\site-packages (from matplotlib) (6.1.0)\n",
      "Requirement already satisfied: zipp>=3.1.0 in c:\\users\\kayze\\appdata\\local\\programs\\python\\python39\\lib\\site-packages (from importlib-resources>=3.2.0->matplotlib) (3.16.2)\n",
      "Requirement already satisfied: six>=1.5 in c:\\users\\kayze\\appdata\\local\\programs\\python\\python39\\lib\\site-packages (from python-dateutil>=2.7->matplotlib) (1.16.0)\n",
      "Requirement already satisfied: pandas in c:\\users\\kayze\\appdata\\local\\programs\\python\\python39\\lib\\site-packages (2.0.3)\n",
      "Requirement already satisfied: python-dateutil>=2.8.2 in c:\\users\\kayze\\appdata\\local\\programs\\python\\python39\\lib\\site-packages (from pandas) (2.8.2)\n",
      "Requirement already satisfied: pytz>=2020.1 in c:\\users\\kayze\\appdata\\local\\programs\\python\\python39\\lib\\site-packages (from pandas) (2023.3)\n",
      "Requirement already satisfied: tzdata>=2022.1 in c:\\users\\kayze\\appdata\\local\\programs\\python\\python39\\lib\\site-packages (from pandas) (2023.3)\n",
      "Requirement already satisfied: numpy>=1.20.3 in c:\\users\\kayze\\appdata\\local\\programs\\python\\python39\\lib\\site-packages (from pandas) (1.23.5)\n",
      "Requirement already satisfied: six>=1.5 in c:\\users\\kayze\\appdata\\local\\programs\\python\\python39\\lib\\site-packages (from python-dateutil>=2.8.2->pandas) (1.16.0)\n"
     ]
    }
   ],
   "source": [
    "!pip install numpy\n",
    "!pip install scikit-learn\n",
    "!pip install scipy\n",
    "!pip install matplotlib\n",
    "!pip install pandas"
   ]
  },
  {
   "cell_type": "code",
   "execution_count": 4,
   "id": "a2e2678d-333e-4b3e-96eb-56a36be75c47",
   "metadata": {},
   "outputs": [],
   "source": [
    "import numpy as np\n",
    "from sklearn.datasets import fetch_20newsgroups\n",
    "from sklearn import decomposition\n",
    "from scipy import linalg\n",
    "import matplotlib.pyplot as plt"
   ]
  },
  {
   "cell_type": "code",
   "execution_count": 5,
   "id": "c15547dc-c7a7-4a7b-8057-3641c8aa7c7e",
   "metadata": {},
   "outputs": [],
   "source": [
    "%matplotlib inline\n",
    "np.set_printoptions(suppress=True)"
   ]
  },
  {
   "cell_type": "code",
   "execution_count": 6,
   "id": "f584da8d-e0ae-483b-acd3-5f48f5cd58da",
   "metadata": {},
   "outputs": [],
   "source": [
    "categories = ['alt.atheism', 'talk.religion.misc', 'comp.graphics', 'sci.space']\n",
    "remove = ('headers', 'footers', 'quotes')\n",
    "newsgroups_train = fetch_20newsgroups(subset='train', categories=categories, remove=remove)\n",
    "newsgroups_test = fetch_20newsgroups(subset='test', categories=categories, remove=remove)"
   ]
  },
  {
   "cell_type": "code",
   "execution_count": 7,
   "id": "772e26e9-a2cd-41bf-beff-b6a22e37caa1",
   "metadata": {},
   "outputs": [
    {
     "data": {
      "text/plain": [
       "((2034,), (2034,))"
      ]
     },
     "execution_count": 7,
     "metadata": {},
     "output_type": "execute_result"
    }
   ],
   "source": [
    "newsgroups_train.filenames.shape, newsgroups_train.target.shape"
   ]
  },
  {
   "cell_type": "code",
   "execution_count": 8,
   "id": "6f57d5b9-bfd3-4783-bc9a-feddf168dcdc",
   "metadata": {},
   "outputs": [
    {
     "name": "stdout",
     "output_type": "stream",
     "text": [
      "Hi,\n",
      "\n",
      "I've noticed that if you only save a model (with all your mapping planes\n",
      "positioned carefully) to a .3DS file that when you reload it after restarting\n",
      "3DS, they are given a default position and orientation.  But if you save\n",
      "to a .PRJ file their positions/orientation are preserved.  Does anyone\n",
      "know why this information is not stored in the .3DS file?  Nothing is\n",
      "explicitly said in the manual about saving texture rules in the .PRJ file. \n",
      "I'd like to be able to read the texture rule information, does anyone have \n",
      "the format for the .PRJ file?\n",
      "\n",
      "Is the .CEL file format available from somewhere?\n",
      "\n",
      "Rych\n",
      "\n",
      "\n",
      "Seems to be, barring evidence to the contrary, that Koresh was simply\n",
      "another deranged fanatic who thought it neccessary to take a whole bunch of\n",
      "folks with him, children and all, to satisfy his delusional mania. Jim\n",
      "Jones, circa 1993.\n",
      "\n",
      "\n",
      "Nope - fruitcakes like Koresh have been demonstrating such evil corruption\n",
      "for centuries.\n",
      "\n",
      " >In article <1993Apr19.020359.26996@sq.sq.com>, msb@sq.sq.com (Mark Brader) \n",
      "\n",
      "MB>                                                             So the\n",
      "MB> 1970 figure seems unlikely to actually be anything but a perijove.\n",
      "\n",
      "JG>Sorry, _perijoves_...I'm not used to talking this language.\n",
      "\n",
      "Couldn't we just say periapsis or apoapsis?\n",
      "\n",
      " \n"
     ]
    }
   ],
   "source": [
    "print(\"\\n\".join(newsgroups_train.data[:3]))"
   ]
  },
  {
   "cell_type": "code",
   "execution_count": 9,
   "id": "5f9fc55d-4ff3-43ad-9464-10cd357a12f9",
   "metadata": {},
   "outputs": [
    {
     "data": {
      "text/plain": [
       "array(['comp.graphics', 'talk.religion.misc', 'sci.space'], dtype='<U18')"
      ]
     },
     "execution_count": 9,
     "metadata": {},
     "output_type": "execute_result"
    }
   ],
   "source": [
    "np.array(newsgroups_train.target_names)[newsgroups_train.target[:3]]"
   ]
  },
  {
   "cell_type": "code",
   "execution_count": 10,
   "id": "5e524634-1aac-4047-8838-e2bcc87e0420",
   "metadata": {},
   "outputs": [
    {
     "data": {
      "text/plain": [
       "array([1, 3, 2, 0, 2, 0, 2, 1, 2, 1], dtype=int64)"
      ]
     },
     "execution_count": 10,
     "metadata": {},
     "output_type": "execute_result"
    }
   ],
   "source": [
    "newsgroups_train.target[:10]"
   ]
  },
  {
   "cell_type": "code",
   "execution_count": 11,
   "id": "88d89ad8-b518-44b7-88e7-d9f05fed3feb",
   "metadata": {},
   "outputs": [],
   "source": [
    "num_topics, num_top_words = 6, 8"
   ]
  },
  {
   "cell_type": "code",
   "execution_count": 12,
   "id": "a61bbd13-d750-49ab-807f-cc97f31ea570",
   "metadata": {},
   "outputs": [],
   "source": [
    "from sklearn.feature_extraction.text import CountVectorizer, TfidfVectorizer"
   ]
  },
  {
   "cell_type": "code",
   "execution_count": 13,
   "id": "c4dfbb01-b525-41ad-8fd3-cb687207435a",
   "metadata": {},
   "outputs": [
    {
     "data": {
      "text/plain": [
       "(2034, 26576)"
      ]
     },
     "execution_count": 13,
     "metadata": {},
     "output_type": "execute_result"
    }
   ],
   "source": [
    "vectorizer = CountVectorizer(stop_words='english')\n",
    "vectors = vectorizer.fit_transform(newsgroups_train.data).todense() # (documents, vocab)\n",
    "vectors.shape #, vectors.nnz / vectors.shape[0], row_means.shape"
   ]
  },
  {
   "cell_type": "code",
   "execution_count": 14,
   "id": "8e27657b-0e61-4419-92a1-fbe7e2cda6b8",
   "metadata": {},
   "outputs": [
    {
     "name": "stdout",
     "output_type": "stream",
     "text": [
      "2034 (2034, 26576)\n"
     ]
    }
   ],
   "source": [
    "print(len(newsgroups_train.data), vectors.shape)"
   ]
  },
  {
   "cell_type": "code",
   "execution_count": 17,
   "id": "4bdd1c8e-bff6-4391-ab6a-f68d0a9cf7f4",
   "metadata": {},
   "outputs": [
    {
     "data": {
      "text/plain": [
       "(26576,)"
      ]
     },
     "execution_count": 17,
     "metadata": {},
     "output_type": "execute_result"
    }
   ],
   "source": [
    "vocab = np.array(vectorizer.get_feature_names_out())\n",
    "vocab.shape"
   ]
  },
  {
   "cell_type": "code",
   "execution_count": 18,
   "id": "999d775c-11ac-485a-8a5f-35cf9c0cc0ce",
   "metadata": {},
   "outputs": [
    {
     "data": {
      "text/plain": [
       "array(['cosmonauts', 'cosmos', 'cosponsored', 'cost', 'costa', 'costar',\n",
       "       'costing', 'costly', 'costruction', 'costs', 'cosy', 'cote',\n",
       "       'couched', 'couldn', 'council', 'councils', 'counsel',\n",
       "       'counselees', 'counselor', 'count'], dtype=object)"
      ]
     },
     "execution_count": 18,
     "metadata": {},
     "output_type": "execute_result"
    }
   ],
   "source": [
    "vocab[7000:7020]"
   ]
  },
  {
   "cell_type": "raw",
   "id": "aa4006f0-047b-4686-92f6-3290ff07e51c",
   "metadata": {},
   "source": [
    "Singular Value Decomposition (SVD)"
   ]
  },
  {
   "cell_type": "code",
   "execution_count": 20,
   "id": "4998cdde-c9cb-4a35-8468-94e73a7c18c9",
   "metadata": {},
   "outputs": [
    {
     "name": "stdout",
     "output_type": "stream",
     "text": [
      "CPU times: total: 2min 39s\n",
      "Wall time: 46.4 s\n"
     ]
    }
   ],
   "source": [
    "%time U, s, Vh = linalg.svd(vectors, full_matrices=False)"
   ]
  },
  {
   "cell_type": "code",
   "execution_count": 21,
   "id": "1adfaadf-3ec4-4e9f-ae97-f738b7a8e9d9",
   "metadata": {},
   "outputs": [
    {
     "name": "stdout",
     "output_type": "stream",
     "text": [
      "(2034, 2034) (2034,) (2034, 26576)\n"
     ]
    }
   ],
   "source": [
    "print(U.shape, s.shape, Vh.shape)"
   ]
  },
  {
   "cell_type": "code",
   "execution_count": 23,
   "id": "4c6daa31-177b-49fc-b5eb-4acfaeb19ae6",
   "metadata": {},
   "outputs": [
    {
     "data": {
      "image/png": "[encoded data removed]",
      "text/plain": [
       "<Figure size 640x480 with 1 Axes>"
      ]
     },
     "metadata": {},
     "output_type": "display_data"
    }
   ],
   "source": [
    "plt.plot(s);"
   ]
  },
  {
   "cell_type": "code",
   "execution_count": 24,
   "id": "3c16b7ba-7f05-4b95-8b91-89ef57ec57aa",
   "metadata": {},
   "outputs": [
    {
     "data": {
      "text/plain": [
       "[<matplotlib.lines.Line2D at 0x282087bf880>]"
      ]
     },
     "execution_count": 24,
     "metadata": {},
     "output_type": "execute_result"
    },
    {
     "data": {
      "image/png": "[encoded data removed]",
      "text/plain": [
       "<Figure size 640x480 with 1 Axes>"
      ]
     },
     "metadata": {},
     "output_type": "display_data"
    }
   ],
   "source": [
    "plt.plot(s[:10])"
   ]
  },
  {
   "cell_type": "code",
   "execution_count": 25,
   "id": "e34df954-86ec-4747-bee4-17d5f4a5fd51",
   "metadata": {},
   "outputs": [],
   "source": [
    "num_top_words=8\n",
    "\n",
    "def show_topics(a):\n",
    "    top_words = lambda t: [vocab[i] for i in np.argsort(t)[:-num_top_words-1:-1]]\n",
    "    topic_words = ([top_words(t) for t in a])\n",
    "    return [' '.join(t) for t in topic_words]"
   ]
  },
  {
   "cell_type": "code",
   "execution_count": 26,
   "id": "cc1ef18e-f9c6-429a-b108-22a1ce6928fc",
   "metadata": {},
   "outputs": [
    {
     "data": {
      "text/plain": [
       "['ditto critus propagandist surname galacticentric kindergarten surreal imaginative',\n",
       " 'jpeg gif file color quality image jfif format',\n",
       " 'graphics edu pub mail 128 3d ray ftp',\n",
       " 'jesus god matthew people atheists atheism does graphics',\n",
       " 'image data processing analysis software available tools display',\n",
       " 'god atheists atheism religious believe religion argument true',\n",
       " 'space nasa lunar mars probe moon missions probes',\n",
       " 'image probe surface lunar mars probes moon orbit',\n",
       " 'argument fallacy conclusion example true ad argumentum premises',\n",
       " 'space larson image theory universe physical nasa material']"
      ]
     },
     "execution_count": 26,
     "metadata": {},
     "output_type": "execute_result"
    }
   ],
   "source": [
    "show_topics(Vh[:10])"
   ]
  },
  {
   "cell_type": "raw",
   "id": "60055ac7-e92c-4f0c-b38f-5978daaa7264",
   "metadata": {},
   "source": [
    "Non-negative Matrix Factorization (NMF)"
   ]
  },
  {
   "cell_type": "code",
   "execution_count": 27,
   "id": "65c4f77e-441e-445f-aae4-e459f9e07036",
   "metadata": {},
   "outputs": [],
   "source": [
    "m,n=vectors.shape\n",
    "d=5  # num topics"
   ]
  },
  {
   "cell_type": "code",
   "execution_count": 72,
   "id": "038a8f74-9f44-4d7e-9206-76c7b2da3895",
   "metadata": {},
   "outputs": [
    {
     "data": {
      "text/plain": [
       "array([[0, 0, 0, ..., 0, 0, 0],\n",
       "       [0, 0, 0, ..., 0, 0, 0],\n",
       "       [0, 0, 0, ..., 0, 0, 0],\n",
       "       ...,\n",
       "       [0, 0, 0, ..., 0, 0, 0],\n",
       "       [0, 0, 0, ..., 0, 0, 0],\n",
       "       [0, 0, 0, ..., 0, 0, 0]], dtype=int64)"
      ]
     },
     "execution_count": 72,
     "metadata": {},
     "output_type": "execute_result"
    }
   ],
   "source": [
    "vectors_array"
   ]
  },
  {
   "cell_type": "code",
   "execution_count": 30,
   "id": "024e3f31-1ee6-4f96-8dd1-e576346286c9",
   "metadata": {},
   "outputs": [],
   "source": [
    "clf = decomposition.NMF(n_components=d, random_state=1)\n",
    "vectors_array = np.asarray(vectors)\n",
    "W1 = clf.fit_transform(vectors_array)\n",
    "H1 = clf.components_"
   ]
  },
  {
   "cell_type": "code",
   "execution_count": 31,
   "id": "a5665e51-ba73-4fe8-bce7-a8e587549f7f",
   "metadata": {},
   "outputs": [
    {
     "data": {
      "text/plain": [
       "['jpeg image gif file color images format quality',\n",
       " 'edu graphics pub mail 128 ray ftp send',\n",
       " 'space launch satellite nasa commercial satellites year market',\n",
       " 'jesus god people matthew atheists does atheism said',\n",
       " 'image data available software processing ftp edu analysis']"
      ]
     },
     "execution_count": 31,
     "metadata": {},
     "output_type": "execute_result"
    }
   ],
   "source": [
    "show_topics(H1)"
   ]
  },
  {
   "cell_type": "code",
   "execution_count": 32,
   "id": "33a72363-fed1-431f-b65f-5d56bdeeb683",
   "metadata": {},
   "outputs": [],
   "source": [
    "vectorizer_tfidf = TfidfVectorizer(stop_words='english')\n",
    "vectors_tfidf = vectorizer_tfidf.fit_transform(newsgroups_train.data) # (documents, vocab)"
   ]
  },
  {
   "cell_type": "code",
   "execution_count": 33,
   "id": "9a111607-00fd-4120-8160-eca8e566fd6a",
   "metadata": {},
   "outputs": [],
   "source": [
    "W1 = clf.fit_transform(vectors_tfidf)\n",
    "H1 = clf.components_"
   ]
  },
  {
   "cell_type": "code",
   "execution_count": 73,
   "id": "93a14599-3f34-4bde-a3e7-e652600b6c0f",
   "metadata": {},
   "outputs": [
    {
     "data": {
      "text/plain": [
       "array([[0.12141852, 0.        , 0.        , ..., 0.00003206, 0.00006412,\n",
       "        0.00029051],\n",
       "       [0.11950029, 0.12112562, 0.00016636, ..., 0.00011668, 0.00023336,\n",
       "        0.05195083],\n",
       "       [0.05783248, 0.48299838, 0.00080166, ..., 0.00028842, 0.00057683,\n",
       "        0.        ],\n",
       "       [0.        , 0.14819091, 0.        , ..., 0.00006596, 0.00013192,\n",
       "        0.        ],\n",
       "       [0.12787154, 0.19416377, 0.00050633, ..., 0.        , 0.        ,\n",
       "        0.        ]])"
      ]
     },
     "execution_count": 73,
     "metadata": {},
     "output_type": "execute_result"
    }
   ],
   "source": [
    "H1"
   ]
  },
  {
   "cell_type": "code",
   "execution_count": 34,
   "id": "a9149bd9-c3a8-4668-8cd1-579ea07ad8b4",
   "metadata": {},
   "outputs": [
    {
     "data": {
      "text/plain": [
       "['people don think just like objective say morality',\n",
       " 'graphics thanks files image file program windows know',\n",
       " 'space nasa launch shuttle orbit moon lunar earth',\n",
       " 'ico bobbe tek beauchaine bronx manhattan sank queens',\n",
       " 'god jesus bible believe christian atheism does belief']"
      ]
     },
     "execution_count": 34,
     "metadata": {},
     "output_type": "execute_result"
    }
   ],
   "source": [
    "show_topics(H1)"
   ]
  },
  {
   "cell_type": "code",
   "execution_count": 35,
   "id": "9d312ec6-cb86-44a2-b201-89b4268723ce",
   "metadata": {},
   "outputs": [
    {
     "data": {
      "text/plain": [
       "[<matplotlib.lines.Line2D at 0x282241d98b0>]"
      ]
     },
     "execution_count": 35,
     "metadata": {},
     "output_type": "execute_result"
    },
    {
     "data": {
      "image/png": "[encoded data removed]",
      "text/plain": [
       "<Figure size 640x480 with 1 Axes>"
      ]
     },
     "metadata": {},
     "output_type": "display_data"
    }
   ],
   "source": [
    "plt.plot(clf.components_[0])"
   ]
  },
  {
   "cell_type": "code",
   "execution_count": 36,
   "id": "56334051-d687-43e0-84a7-b5027e3b3bcc",
   "metadata": {},
   "outputs": [
    {
     "data": {
      "text/plain": [
       "43.71292606348689"
      ]
     },
     "execution_count": 36,
     "metadata": {},
     "output_type": "execute_result"
    }
   ],
   "source": [
    "clf.reconstruction_err_"
   ]
  },
  {
   "cell_type": "code",
   "execution_count": 37,
   "id": "27302de5-e3fb-46b5-8143-deb66cf49aca",
   "metadata": {},
   "outputs": [],
   "source": [
    "lam=1e3\n",
    "lr=1e-2\n",
    "m, n = vectors_tfidf.shape"
   ]
  },
  {
   "cell_type": "code",
   "execution_count": 39,
   "id": "9338c65b-5b91-4789-b659-175f3044f5da",
   "metadata": {},
   "outputs": [],
   "source": [
    "\n",
    "vectors_array = np.asarray(vectors)\n",
    "W1 = clf.fit_transform(vectors_array)\n",
    "H1 = clf.components_"
   ]
  },
  {
   "cell_type": "code",
   "execution_count": 40,
   "id": "9c931493-8799-4068-9123-101208e56a4e",
   "metadata": {},
   "outputs": [
    {
     "data": {
      "text/plain": [
       "['jpeg image gif file color images format quality',\n",
       " 'edu graphics pub mail 128 ray ftp send',\n",
       " 'space launch satellite nasa commercial satellites year market',\n",
       " 'jesus god people matthew atheists does atheism said',\n",
       " 'image data available software processing ftp edu analysis']"
      ]
     },
     "execution_count": 40,
     "metadata": {},
     "output_type": "execute_result"
    }
   ],
   "source": [
    "show_topics(H1)"
   ]
  },
  {
   "cell_type": "code",
   "execution_count": 41,
   "id": "f2278e50-3f24-44e3-9a1b-347e32148304",
   "metadata": {},
   "outputs": [],
   "source": [
    "mu = 1e-6\n",
    "def grads(M, W, H):\n",
    "    R = W@H-M\n",
    "    return R@H.T + penalty(W, mu)*lam, W.T@R + penalty(H, mu)*lam # dW, dH"
   ]
  },
  {
   "cell_type": "code",
   "execution_count": 42,
   "id": "a9d58616-ae75-404f-97f5-bf084e462938",
   "metadata": {},
   "outputs": [],
   "source": [
    "def penalty(M, mu):\n",
    "    return np.where(M>=mu,0, np.min(M - mu, 0))"
   ]
  },
  {
   "cell_type": "code",
   "execution_count": 43,
   "id": "f09d5020-d158-485d-a0e9-8b4046ef165f",
   "metadata": {},
   "outputs": [],
   "source": [
    "def upd(M, W, H, lr):\n",
    "    dW,dH = grads(M,W,H)\n",
    "    W -= lr*dW; H -= lr*dH"
   ]
  },
  {
   "cell_type": "code",
   "execution_count": 44,
   "id": "4503a9fc-b759-49bd-b43b-f115b7602cba",
   "metadata": {},
   "outputs": [],
   "source": [
    "def report(M,W,H): \n",
    "    print(np.linalg.norm(M-W@H), W.min(), H.min(), (W<0).sum(), (H<0).sum())"
   ]
  },
  {
   "cell_type": "code",
   "execution_count": 45,
   "id": "4ff6ca88-8238-4c69-ab88-dd3ff6a39b8f",
   "metadata": {},
   "outputs": [],
   "source": [
    "W = np.abs(np.random.normal(scale=0.01, size=(m,d)))\n",
    "H = np.abs(np.random.normal(scale=0.01, size=(d,n)))"
   ]
  },
  {
   "cell_type": "code",
   "execution_count": 46,
   "id": "fff8a2a6-b0de-48c5-b6e3-ca115ccde7d6",
   "metadata": {},
   "outputs": [
    {
     "name": "stdout",
     "output_type": "stream",
     "text": [
      "44.42786716220947 6.768735156806365e-07 1.0670361259504231e-07 0 0\n"
     ]
    }
   ],
   "source": [
    "report(vectors_tfidf, W, H)"
   ]
  },
  {
   "cell_type": "code",
   "execution_count": 47,
   "id": "f43efab9-7a62-4af0-a537-4b0fab26625e",
   "metadata": {},
   "outputs": [],
   "source": [
    "upd(vectors_tfidf,W,H,lr)"
   ]
  },
  {
   "cell_type": "code",
   "execution_count": 48,
   "id": "4bdbaf7c-d41c-4159-b6db-376ecf53599d",
   "metadata": {},
   "outputs": [
    {
     "name": "stdout",
     "output_type": "stream",
     "text": [
      "44.41985363474713 -0.0008128153688194533 -7.454975642191525e-05 125 328\n"
     ]
    }
   ],
   "source": [
    "report(vectors_tfidf, W, H)"
   ]
  },
  {
   "cell_type": "code",
   "execution_count": 49,
   "id": "455ef679-3d1a-4a83-887e-58c2af6d00c2",
   "metadata": {},
   "outputs": [
    {
     "name": "stdout",
     "output_type": "stream",
     "text": [
      "44.41391907822037 -0.000903069836528765 -5.595626134000116e-05 128 278\n",
      "44.375591312241525 -0.0003916168770354913 -7.597599954887019e-05 51 516\n",
      "44.346931141207094 -0.00018350487369194065 -6.600145741438071e-05 28 936\n",
      "44.31500454084282 -0.00011011323335689425 -7.838234228095878e-05 26 1510\n",
      "44.279817861265705 -0.00010534786228757941 -0.00010849930376392658 28 2174\n"
     ]
    }
   ],
   "source": [
    "for i in range(50): \n",
    "    upd(vectors_tfidf,W,H,lr)\n",
    "    if i % 10 == 0: report(vectors_tfidf,W,H)"
   ]
  },
  {
   "cell_type": "code",
   "execution_count": 50,
   "id": "51b09ce5-c4de-489d-b693-0626d57c2920",
   "metadata": {},
   "outputs": [
    {
     "data": {
      "text/plain": [
       "['space just don know think people like god',\n",
       " 'space god people don just think like know',\n",
       " 'god don space people like think know does',\n",
       " 'people god space like don just think know',\n",
       " 'god people space don just think know like']"
      ]
     },
     "execution_count": 50,
     "metadata": {},
     "output_type": "execute_result"
    }
   ],
   "source": [
    "show_topics(H)"
   ]
  },
  {
   "cell_type": "code",
   "execution_count": 52,
   "id": "f934fdc7-36b2-407a-b356-68eea3a13a4a",
   "metadata": {},
   "outputs": [],
   "source": [
    "import pandas as pd\n",
    "import re"
   ]
  },
  {
   "cell_type": "code",
   "execution_count": 70,
   "id": "3c0ecd4a-f968-48d3-bf24-033283e31e92",
   "metadata": {},
   "outputs": [
    {
     "name": "stdout",
     "output_type": "stream",
     "text": [
      "    Nº                                       CONCORDANCIA   AÑO   AUTOR  \\\n",
      "0                                                    None  None    None   \n",
      "1    1  ONIO PUYOL Presidente de la Federació Catalana...  1995  PRENSA   \n",
      "2    2  l visto bueno de quienes dirigen los destinos ...  1995  PRENSA   \n",
      "3    3  ignos. JULIO GUTIÉRREZ GÓMEZ Socio n.º 30.608 ...  1995  PRENSA   \n",
      "4    4  r con José María García y sus retransmisiones ...  1995  PRENSA   \n",
      "5    5  animar al equipo de rugby del USAP y al Perpin...  1995  PRENSA   \n",
      "6    6  A Director de la Escola Catalana d'Entrenadors...  1994  PRENSA   \n",
      "7    7  AS Vocal de la junta de la Federación Catalana...  1994  PRENSA   \n",
      "8    8  en este sentido de los colores de la camiseta ...  1994  PRENSA   \n",
      "9    9  de Barcelona. 4. En las primeras alineaciones ...  1994  PRENSA   \n",
      "10  10  n plena pujanza. Es, claro está, la directiva ...  1994  PRENSA   \n",
      "11                                                   None  None    None   \n",
      "\n",
      "                                               TÍTULO    PAÍS  \\\n",
      "0                                                None    None   \n",
      "1               La Vanguardia, 30/12/1995 : ENCUESTA.  ESPAÑA   \n",
      "2   La Vanguardia, 30/03/1995 : CARTAS DE LOS LECT...  ESPAÑA   \n",
      "3   La Vanguardia, 30/03/1995 : CARTAS DE LOS LECT...  ESPAÑA   \n",
      "4             La Vanguardia, 16/03/1995 : J. M. BAGET  ESPAÑA   \n",
      "5         La Vanguardia, 28/02/1995 : ÓSCAR CABALLERO  ESPAÑA   \n",
      "6   La Vanguardia, 03/12/1994 : ¿Sería bueno para ...  ESPAÑA   \n",
      "7   La Vanguardia, 17/06/1994 : ¿Hasta dónde llega...  ESPAÑA   \n",
      "8   La Vanguardia, 04/05/1994 : Reuniones sabatina...  ESPAÑA   \n",
      "9   La Vanguardia, 04/05/1994 : Reuniones sabatina...  ESPAÑA   \n",
      "10  La Vanguardia, 04/05/1994 : Visiones de la bur...  ESPAÑA   \n",
      "11                                               None    None   \n",
      "\n",
      "                         TEMA                PUBLICACIÓN  \n",
      "0                        None                       None  \n",
      "1                 05.Deportes  T.I.S.A (Barcelona), 1995  \n",
      "2       02.Testimonios varios  T.I.S.A (Barcelona), 1995  \n",
      "3       02.Testimonios varios  T.I.S.A (Barcelona), 1995  \n",
      "4   04.Medios de comunicación  T.I.S.A (Barcelona), 1995  \n",
      "5                 05.Deportes  T.I.S.A (Barcelona), 1995  \n",
      "6                 05.Deportes  T.I.S.A (Barcelona), 1994  \n",
      "7                 05.Deportes  T.I.S.A (Barcelona), 1994  \n",
      "8       02.Testimonios varios  T.I.S.A (Barcelona), 1994  \n",
      "9       02.Testimonios varios  T.I.S.A (Barcelona), 1994  \n",
      "10              02.Sociología  T.I.S.A (Barcelona), 1994  \n",
      "11                       None                       None  \n"
     ]
    }
   ],
   "source": [
    "texto = \"\"\"\n",
    "1    ONIO PUYOL Presidente de la Federació Catalana de Futbol Arantxa fue la número 1. Indurain, el quinto T **  1995            PRENSA                                   La Vanguardia, 30/12/1995 : ENCUESTA.                        ESPAÑA          05.Deportes                    T.I.S.A (Barcelona), 1995\n",
    "2    l visto bueno de quienes dirigen los destinos del Futbol Club Barcelona siempre amado y querido por uno **  1995            PRENSA                                   La Vanguardia, 30/03/1995 : CARTAS DE LOS LECTORES.          ESPAÑA          02.Testimonios varios          T.I.S.A (Barcelona), 1995\n",
    "3    ignos. JULIO GUTIÉRREZ GÓMEZ Socio n.º 30.608 del Futbol Club Barcelona Viladrau CINE IMAX-PORT VELL En **  1995            PRENSA                                   La Vanguardia, 30/03/1995 : CARTAS DE LOS LECTORES.          ESPAÑA          02.Testimonios varios          T.I.S.A (Barcelona), 1995\n",
    "4    r con José María García y sus retransmisiones de \"Futbol en catalá\"-, Puyal ya había compaginado esas a **  1995            PRENSA                                   La Vanguardia, 16/03/1995 : J. M. BAGET                      ESPAÑA          04.Medios de comunicación      T.I.S.A (Barcelona), 1995\n",
    "5     animar al equipo de rugby del USAP y al Perpinyà Futbol Club, que actualmente milita en la segunda div **  1995            PRENSA                                   La Vanguardia, 28/02/1995 : ÓSCAR CABALLERO                  ESPAÑA          05.Deportes                    T.I.S.A (Barcelona), 1995\n",
    "6    A Director de la Escola Catalana d'Entrenadors de Futbol Para mí, no. Porque el Español tiene la posibi **  1994            PRENSA                                   La Vanguardia, 03/12/1994 : ¿Sería bueno para el RCD Español  ESPAÑA          05.Deportes                    T.I.S.A (Barcelona), 1994\n",
    "7    AS Vocal de la junta de la Federación Catalana de Futbol Nuestra selección reúne condiciones suficiente **  1994            PRENSA                                   La Vanguardia, 17/06/1994 : ¿Hasta dónde llegará España en e  ESPAÑA          05.Deportes                    T.I.S.A (Barcelona), 1994\n",
    "8    en este sentido de los colores de la camiseta del Futbol Club Barcelona o en su defecto se añada con ri **  1994            PRENSA                                   La Vanguardia, 04/05/1994 : Reuniones sabatinas frente al Li  ESPAÑA          02.Testimonios varios          T.I.S.A (Barcelona), 1994\n",
    "9    de Barcelona. 4. En las primeras alineaciones del Futbol Club Barcelona sólo podían jugar (\"apartheid\") **  1994            PRENSA                                   La Vanguardia, 04/05/1994 : Reuniones sabatinas frente al Li  ESPAÑA          02.Testimonios varios          T.I.S.A (Barcelona), 1994\n",
    "10   n plena pujanza. Es, claro está, la directiva del Futbol Club Barcelona. IGNASI MOYA. PATRICIO SIMON. E **  1994            PRENSA                                   La Vanguardia, 04/05/1994 : Visiones de la burguesía.        ESPAÑA          02.Sociología                  T.I.S.A (Barcelona), 1994\n",
    "\"\"\"\n",
    "lineas = texto.split('\\n')\n",
    "\n",
    "# Inicializa una lista para almacenar los datos de cada línea.\n",
    "datos = []\n",
    "\n",
    "# Expresión regular para dividir campos por espacios múltiples.\n",
    "regex = re.compile(r'\\s{2,}')\n",
    "\n",
    "# Recorre las líneas del texto y divide los campos con la expresión regular.\n",
    "for linea in lineas:\n",
    "    campos = regex.split(linea.strip())\n",
    "    if len(campos) > 0:\n",
    "        datos.append(campos)\n",
    "#print(datos)\n",
    "# Reorganiza los campos en columnas con los nombres definidos previamente.\n",
    "df = pd.DataFrame(datos, columns=[\"Nº\", \"CONCORDANCIA\", \"AÑO\", \"AUTOR\", \"TÍTULO\", \"PAÍS\", \"TEMA\", \"PUBLICACIÓN\"])\n",
    "\n",
    "# Muestra el DataFrame.\n",
    "print(df)"
   ]
  },
  {
   "cell_type": "code",
   "execution_count": null,
   "id": "4397832a-3650-4130-9786-16d6ceed4b45",
   "metadata": {},
   "outputs": [],
   "source": []
  }
 ],
 "metadata": {
  "kernelspec": {
   "display_name": "Python 3 (ipykernel)",
   "language": "python",
   "name": "python3"
  },
  "language_info": {
   "codemirror_mode": {
    "name": "ipython",
    "version": 3
   },
   "file_extension": ".py",
   "mimetype": "text/x-python",
   "name": "python",
   "nbconvert_exporter": "python",
   "pygments_lexer": "ipython3",
   "version": "3.9.13"
  }
 },
 "nbformat": 4,
 "nbformat_minor": 5
}
